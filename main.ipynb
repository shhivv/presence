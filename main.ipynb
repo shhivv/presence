{
 "cells": [
  {
   "cell_type": "code",
   "execution_count": 6,
   "metadata": {},
   "outputs": [],
   "source": [
    "import cv2\n",
    "import threading\n",
    "import time\n",
    "from screen_brightness_control import set_brightness\n",
    "\n",
    "face_classifier = cv2.CascadeClassifier(\n",
    "    cv2.data.haarcascades + \"haarcascade_frontalface_default.xml\"\n",
    ")"
   ]
  },
  {
   "cell_type": "code",
   "execution_count": 7,
   "metadata": {},
   "outputs": [],
   "source": [
    "video_capture = cv2.VideoCapture(0)"
   ]
  },
  {
   "cell_type": "code",
   "execution_count": 8,
   "metadata": {},
   "outputs": [],
   "source": [
    "\n",
    "boolean_value = False\n",
    "\n",
    "def update_boolean():\n",
    "    global boolean_value\n",
    "    while True:\n",
    "        if not boolean_value:\n",
    "            set_brightness(10)\n",
    "        boolean_value = False\n",
    "        print(\"Boolean value:\", boolean_value)\n",
    "        time.sleep(10)\n",
    "\n",
    "update_thread = threading.Thread(target=update_boolean)\n",
    "\n",
    "update_thread.start()"
   ]
  },
  {
   "cell_type": "code",
   "execution_count": 9,
   "metadata": {},
   "outputs": [],
   "source": [
    "def detect_bounding_box(vid):\n",
    "    global boolean_value\n",
    "    gray_image = cv2.cvtColor(vid, cv2.COLOR_BGR2GRAY)\n",
    "    faces = face_classifier.detectMultiScale(gray_image, 1.1, 2, minSize=(40, 40))\n",
    "    for (x, y, w, h) in faces:\n",
    "        cv2.rectangle(vid, (x, y), (x + w, y + h), (0, 255, 0), 4)\n",
    "        boolean_value = True\n",
    "        set_brightness(50)\n",
    "    return faces"
   ]
  },
  {
   "cell_type": "code",
   "execution_count": null,
   "metadata": {},
   "outputs": [
    {
     "name": "stdout",
     "output_type": "stream",
     "text": [
      "Boolean value: False\n",
      "Boolean value: False\n",
      "Boolean value: False\n",
      "Boolean value: False\n",
      "Boolean value: False\n",
      "Boolean value: False\n"
     ]
    }
   ],
   "source": [
    "while True:\n",
    "    result, video_frame = video_capture.read()\n",
    "    if result is False:\n",
    "        break\n",
    "\n",
    "    faces = detect_bounding_box(\n",
    "        video_frame\n",
    "    )\n",
    "\n",
    "    cv2.imshow(\"demo\",video_frame)\n",
    "\n",
    "    if cv2.waitKey(1) & 0xFF == ord(\"q\"):\n",
    "        break\n",
    "\n",
    "video_capture.release()\n",
    "cv2.destroyAllWindows()"
   ]
  },
  {
   "cell_type": "code",
   "execution_count": null,
   "metadata": {},
   "outputs": [],
   "source": []
  }
 ],
 "metadata": {
  "kernelspec": {
   "display_name": "Python 3 (ipykernel)",
   "language": "python",
   "name": "python3"
  },
  "language_info": {
   "codemirror_mode": {
    "name": "ipython",
    "version": 3
   },
   "file_extension": ".py",
   "mimetype": "text/x-python",
   "name": "python",
   "nbconvert_exporter": "python",
   "pygments_lexer": "ipython3",
   "version": "3.8.6"
  }
 },
 "nbformat": 4,
 "nbformat_minor": 4
}
